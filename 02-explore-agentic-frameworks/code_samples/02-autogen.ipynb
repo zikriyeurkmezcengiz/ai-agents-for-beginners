{
 "cells": [
  {
   "cell_type": "markdown",
   "metadata": {},
   "source": [
    "# AutoGen Basic Sample \n",
    "\n",
    "In this code sample, you will use the [AutoGen](https://aka.ms/ai-agents/autogen) AI Framework to create a basic agent. \n",
    "\n",
    "The goal of this sample is to show you the steps that we will later use in the addtional code samples when implementing the different agentic patterns. "
   ]
  },
  {
   "cell_type": "markdown",
   "metadata": {},
   "source": [
    "## Import the Needed Python Packages "
   ]
  },
  {
   "cell_type": "code",
   "execution_count": 1,
   "metadata": {},
   "outputs": [],
   "source": [
    "import os\n",
    "from dotenv import load_dotenv\n",
    "\n",
    "from autogen_agentchat.agents import AssistantAgent\n",
    "from autogen_core.models import UserMessage\n",
    "from autogen_ext.models.azure import AzureAIChatCompletionClient\n",
    "from azure.core.credentials import AzureKeyCredential\n",
    "from autogen_core import CancellationToken\n",
    "\n",
    "from autogen_agentchat.messages import TextMessage\n",
    "from autogen_agentchat.ui import Console\n"
   ]
  },
  {
   "cell_type": "markdown",
   "metadata": {},
   "source": [
    "## Create the Client \n",
    "\n",
    "In this sample, we will use [GitHub Models](https://aka.ms/ai-agents-beginners/github-models) for access to the LLM. \n",
    "\n",
    "The `model` is defined as `gpt-4o-mini`. Try changing the model to another model available on the GitHub Models marketplace to see the different results. \n",
    "\n",
    "As a quick test, we will just run a simple prompt - `What is the capital of France`. "
   ]
  },
  {
   "cell_type": "code",
   "execution_count": 2,
   "metadata": {},
   "outputs": [
    {
     "name": "stdout",
     "output_type": "stream",
     "text": [
      "finish_reason='stop' content='The capital of France is Paris.' usage=RequestUsage(prompt_tokens=14, completion_tokens=8) cached=False logprobs=None thought=None\n"
     ]
    }
   ],
   "source": [
    "load_dotenv()\n",
    "client = AzureAIChatCompletionClient(\n",
    "    model=\"gpt-4o-mini\",\n",
    "    endpoint=\"https://models.inference.ai.azure.com\",\n",
    "    # To authenticate with the model you will need to generate a personal access token (PAT) in your GitHub settings.\n",
    "    # Create your PAT token by following instructions here: https://docs.github.com/en/authentication/keeping-your-account-and-data-secure/managing-your-personal-access-tokens\n",
    "    credential=AzureKeyCredential(os.getenv(\"GITHUB_TOKEN\")),\n",
    "    model_info={\n",
    "        \"json_output\": True,\n",
    "        \"function_calling\": True,\n",
    "        \"vision\": True,\n",
    "        \"family\": \"unknown\",\n",
    "    },\n",
    ")\n",
    "\n",
    "result = await client.create([UserMessage(content=\"What is the capital of France?\", source=\"user\")])\n",
    "print(result)"
   ]
  },
  {
   "cell_type": "markdown",
   "metadata": {},
   "source": [
    "## Defining the Agent \n",
    "\n",
    "Now that we have set up the `client` and confirmed that it is working, let us create an `AssistantAgent`. Each agent can be assigned a: \n",
    "**name** - A short hand name that will be useful in referencing it in multi-agent flows. \n",
    "**model_client** - The client that you created in the earlier step. \n",
    "**tools** - Available tools that the Agent can use to complete a task.\n",
    "**system_message** - The metaprompt that defines the task, behavior and tone of the LLM. \n",
    "\n",
    "You can change the system message to see how the LLM responds. We will cover `tools` in Lesson #4. \n"
   ]
  },
  {
   "cell_type": "code",
   "execution_count": 3,
   "metadata": {},
   "outputs": [],
   "source": [
    "agent = AssistantAgent(\n",
    "    name=\"assistant\",\n",
    "    model_client=client,\n",
    "    tools=[],\n",
    "    system_message=\"You are a travel agent that plans great vacations\",\n",
    ")"
   ]
  },
  {
   "cell_type": "markdown",
   "metadata": {},
   "source": [
    "## Run the Agent \n",
    "\n",
    "The below function will run the agent. We use the the `on_message` method to update the Agent's state with the new message. \n",
    "\n",
    "In this case, we update the state with a new message from the user which is `\"Plan me a great sunny vacation\"`.\n",
    "\n",
    "You can change the message content to see how the LLM responds differently. "
   ]
  },
  {
   "cell_type": "code",
   "execution_count": 4,
   "metadata": {},
   "outputs": [
    {
     "data": {
      "text/html": [
       "<div style='margin-bottom:10px'><div style='font-weight:bold'>User:</div><div style='margin-left:20px'>Plan me a great sunny vacation</div></div><div style='margin-bottom:20px'><div style='font-weight:bold'>Assistant:</div><div style='margin-left:20px; white-space:pre-wrap'>Sure! Let’s plan a sunny vacation that includes beautiful beaches, vibrant culture, and plenty of activities. Here’s a proposed itinerary for a one-week getaway to Cancun, Mexico, a top destination known for its stunning beaches and lively atmosphere.\n",
       "\n",
       "### **7-Day Cancun Vacation Itinerary**\n",
       "\n",
       "#### **Day 1: Arrival in Cancun**\n",
       "- **Flight:** Arrive at Cancun International Airport (CUN).\n",
       "- **Accommodation:** Check into a beachfront resort like the Hyatt Zilara or The Grand Fiesta Americana.\n",
       "- **Evening:** Enjoy a welcome dinner at a beachfront restaurant like \"Limoncello\" to kick off your vacation with a taste of local cuisine.\n",
       "\n",
       "#### **Day 2: Beach Day & Water Activities**\n",
       "- **Morning:** Relax at the beautiful Playa Delfines beach. Rent a beach cabana and soak up the sun.\n",
       "- **Afternoon:** Take part in water sports like jet skiing, parasailing, or snorkeling. You can book a snorkeling trip to the MUSA (Underwater Museum of Art).\n",
       "- **Evening:** Head to downtown Cancun for a stroll and dinner at \"La Habichuela\" for authentic Mayan dishes.\n",
       "\n",
       "#### **Day 3: Explore Mayan Ruins**\n",
       "- **Day Trip:** Take a guided tour to Tulum to explore the stunning cliffside Mayan ruins overlooking the Caribbean Sea. \n",
       "- **Lunch:** Enjoy a beachside lunch in Tulum at \"Ziggy Beach.\"\n",
       "- **Return:** Spend the evening relaxing at the resort or take a sunset cruise.\n",
       "\n",
       "#### **Day 4: Xcaret Park Adventure**\n",
       "- **Full-Day Excursion:** Visit Xcaret, an eco-archaeological park with underground rivers, wildlife, and cultural performances.\n",
       "- **Activities:** Swim in the cenotes, snorkel in the Caribbean, and watch the Xcaret México Espectacular show in the evening.\n",
       "- **Return:** Dinner at your resort.\n",
       "\n",
       "#### **Day 5: Isla Mujeres Day Trip**\n",
       "- **Morning:** Take a ferry to Isla Mujeres. Rent a golf cart to explore the island.\n",
       "- **Activities:** Visit the famous Playa Norte beach for stunning views and swimming. Snorkel at Garrafon Natural Reef Park.\n",
       "- **Lunch:** Enjoy a beachside lunch at \"The Joint.\"\n",
       "- **Evening:** Head back to Cancun and relax at your resort.\n",
       "\n",
       "#### **Day 6: Leisure and Shopping**\n",
       "- **Morning:** Enjoy breakfast at your leisure and relax by the pool or beach.\n",
       "- **Afternoon:** Visit La Isla Shopping Village for some shopping and local artisans.\n",
       "- **Evening:** Experience Cancun's nightlife at a popular nightclub like Coco Bongo or Mandala.\n",
       "\n",
       "#### **Day 7: Relax and Departure**\n",
       "- **Morning:** Enjoy a final breakfast on the beach and take a morning swim or spa treatment.\n",
       "- **Afternoon:** Last-minute shopping or relax by the pool before your flight.\n",
       "- **Departure:** Head to the airport for your flight back home.\n",
       "\n",
       "### **Travel Tips**\n",
       "- **Best Time to Visit:** December to April for the best weather.\n",
       "- **Currency:** Mexican Peso; credit cards are widely accepted.\n",
       "- **Local Customs:** Familiarize yourself with polite greetings and tipping practices.\n",
       "\n",
       "This Cancun itinerary offers a mix of relaxation, adventure, and cultural experiences that will leave you with a tan and great memories! Let me know if you’re interested in adjusting any part or want recommendations for other sunny destinations!</div></div>"
      ],
      "text/plain": [
       "<IPython.core.display.HTML object>"
      ]
     },
     "metadata": {},
     "output_type": "display_data"
    }
   ],
   "source": [
    "from IPython.display import display, HTML\n",
    "\n",
    "\n",
    "async def assistant_run():\n",
    "    # Define the query\n",
    "    user_query = \"Plan me a great sunny vacation\"\n",
    "\n",
    "    # Start building HTML output\n",
    "    html_output = \"<div style='margin-bottom:10px'>\"\n",
    "    html_output += \"<div style='font-weight:bold'>User:</div>\"\n",
    "    html_output += f\"<div style='margin-left:20px'>{user_query}</div>\"\n",
    "    html_output += \"</div>\"\n",
    "\n",
    "    # Execute the agent response\n",
    "    response = await agent.on_messages(\n",
    "        [TextMessage(content=user_query, source=\"user\")],\n",
    "        cancellation_token=CancellationToken(),\n",
    "    )\n",
    "\n",
    "    # Add agent response to HTML\n",
    "    html_output += \"<div style='margin-bottom:20px'>\"\n",
    "    html_output += \"<div style='font-weight:bold'>Assistant:</div>\"\n",
    "    html_output += f\"<div style='margin-left:20px; white-space:pre-wrap'>{response.chat_message.content}</div>\"\n",
    "    html_output += \"</div>\"\n",
    "\n",
    "    # Display formatted HTML\n",
    "    display(HTML(html_output))\n",
    "\n",
    "# Run the function\n",
    "await assistant_run()"
   ]
  }
 ],
 "metadata": {
  "kernelspec": {
   "display_name": ".venv",
   "language": "python",
   "name": "python3"
  },
  "language_info": {
   "codemirror_mode": {
    "name": "ipython",
    "version": 3
   },
   "file_extension": ".py",
   "mimetype": "text/x-python",
   "name": "python",
   "nbconvert_exporter": "python",
   "pygments_lexer": "ipython3",
   "version": "3.12.9"
  }
 },
 "nbformat": 4,
 "nbformat_minor": 2
}
