{
 "cells": [
  {
   "cell_type": "code",
   "execution_count": 6,
   "metadata": {},
   "outputs": [],
   "source": [
    "import os\n",
    "from typing import Annotated\n",
    "import json\n",
    "\n",
    "import requests\n",
    "from autogen_agentchat.agents import AssistantAgent\n",
    "from autogen_ext.models.azure import AzureAIChatCompletionClient\n",
    "from azure.core.credentials import AzureKeyCredential\n",
    "from autogen_core import CancellationToken\n",
    "from autogen_core.tools import FunctionTool\n",
    "from autogen_agentchat.messages import TextMessage\n",
    "from autogen_core.tools import FunctionTool"
   ]
  },
  {
   "cell_type": "code",
   "execution_count": 7,
   "metadata": {},
   "outputs": [],
   "source": [
    "import random   \n",
    "\n",
    "\n",
    "def get_random_destination() -> Annotated[str, \"Returns a random vacation destination.\"]:\n",
    "        # Get available destinations (excluding last one if possible)\n",
    "        destinations = [\n",
    "            \"Barcelona, Spain\",\n",
    "            \"Paris, France\",\n",
    "            \"Berlin, Germany\",\n",
    "            \"Tokyo, Japan\",\n",
    "            \"Sydney, Australia\",\n",
    "            \"New York, USA\",\n",
    "            \"Cairo, Egypt\",\n",
    "            \"Cape Town, South Africa\",\n",
    "            \"Rio de Janeiro, Brazil\",\n",
    "            \"Bali, Indonesia\"\n",
    "        ]\n",
    "        available_destinations = destinations.copy()\n",
    "\n",
    "        # Select a random destination\n",
    "        destination = random.choice(available_destinations)\n",
    "        return destination"
   ]
  },
  {
   "cell_type": "code",
   "execution_count": 8,
   "metadata": {},
   "outputs": [],
   "source": [
    "get_random_destination = FunctionTool(\n",
    "    get_random_destination, description=\"Returns a random vacation destination.\"\n",
    ")"
   ]
  },
  {
   "cell_type": "code",
   "execution_count": 11,
   "metadata": {},
   "outputs": [],
   "source": [
    "AGENT_NAME = \"TravelAgent\"\n",
    "AGENT_INSTRUCTIONS = \"\"\"You are a helpful AI Agent that can help plan vacations for customers.\n",
    "\n",
    "Important: When users specify a destination, always plan for that location. Only suggest random destinations when the user hasn't specified a preference.\n",
    "\n",
    "When the conversation begins, introduce yourself with this message:\n",
    "\"Hello! I'm your TravelAgent assistant. I can help plan vacations and suggest interesting destinations for you. Here are some things you can ask me:\n",
    "1. Plan a day trip to a specific location\n",
    "2. Suggest a random vacation destination\n",
    "3. Find destinations with specific features (beaches, mountains, historical sites, etc.)\n",
    "4. Plan an alternative trip if you don't like my first suggestion\n",
    "\n",
    "What kind of trip would you like me to help you plan today?\"\n",
    "\n",
    "Always prioritize user preferences. If they mention a specific destination like \"Bali\" or \"Paris,\" focus your planning on that location rather than suggesting alternatives.\n",
    "\"\"\"\n",
    "client = AzureAIChatCompletionClient(\n",
    "    model=\"gpt-4o-mini\",\n",
    "    endpoint=\"https://models.inference.ai.azure.com\",\n",
    "    # To authenticate with the model you will need to generate a personal access token (PAT) in your GitHub settings.\n",
    "    # Create your PAT token by following instructions here: https://docs.github.com/en/authentication/keeping-your-account-and-data-secure/managing-your-personal-access-tokens\n",
    "    credential=AzureKeyCredential(os.environ[\"GITHUB_TOKEN\"]),\n",
    "    model_info={\n",
    "        \"json_output\": True,\n",
    "        \"function_calling\": True,\n",
    "        \"vision\": True,\n",
    "        \"family\": \"unknown\",\n",
    "    },\n",
    ")\n",
    "\n",
    "agent = AssistantAgent(\n",
    "    name=AGENT_NAME,\n",
    "    model_client=client,\n",
    "    tools=[get_random_destination],\n",
    "    system_message=AGENT_INSTRUCTIONS,\n",
    "    reflect_on_tool_use=True,\n",
    ")"
   ]
  },
  {
   "cell_type": "code",
   "execution_count": 14,
   "metadata": {},
   "outputs": [
    {
     "name": "stdout",
     "output_type": "stream",
     "text": [
      "[ToolCallRequestEvent(source='TravelAgent', models_usage=RequestUsage(prompt_tokens=749, completion_tokens=12), content=[FunctionCall(id='call_qJO6whsnOFDXHrjT4yOD3wnl', arguments='{}', name='get_random_destination')], type='ToolCallRequestEvent'), ToolCallExecutionEvent(source='TravelAgent', models_usage=None, content=[FunctionExecutionResult(content='Paris, France', call_id='call_qJO6whsnOFDXHrjT4yOD3wnl')], type='ToolCallExecutionEvent')]\n",
      "source='TravelAgent' models_usage=RequestUsage(prompt_tokens=745, completion_tokens=475) content=\"How about a day trip to the beautiful city of Paris, France? Here’s a suggested itinerary to make the most of your time:\\n\\n### Morning\\n1. **Breakfast at a Café**\\n   - Start your day with a classic Parisian breakfast of croissants and café au lait at a local café.\\n\\n2. **Visit the Eiffel Tower**\\n   - Head to the iconic Eiffel Tower. You can either go up for breathtaking views of Paris or enjoy the sights from the Champ de Mars park nearby.\\n\\n### Late Morning\\n3. **Stroll Along the Seine River**\\n   - Take a leisurely walk along the Seine River. Enjoy the picturesque views, quaint bridges, and the charming atmosphere.\\n\\n4. **Visit Notre-Dame Cathedral**\\n   - Make your way to Notre-Dame Cathedral. Although the interior may be under renovation, you can still admire the impressive architecture from the outside and explore the Square Jean XXIII.\\n\\n### Afternoon\\n5. **Lunch in the Latin Quarter**\\n   - Enjoy lunch in the vibrant Latin Quarter. Look for a bistro and try French specialties like coq au vin or ratatouille.\\n\\n6. **Explore the Louvre Museum**\\n   - Spend the afternoon at the Louvre Museum. Be sure to check out famous masterpieces such as the Mona Lisa and the Venus de Milo (buy tickets in advance to skip the lines).\\n\\n### Late Afternoon\\n7. **Visit Montmartre**\\n   - Head to Montmartre to explore the artistic neighborhood. Don't miss the Basilica of Sacré-Cœur for stunning panoramic views of the city.\\n\\n8. **Wander through Artists’ Square**\\n   - Stroll through Place du Tertre where local artists display their work and can even do a quick portrait sketch.\\n\\n### Evening\\n9. **Dinner in Montmartre**\\n   - Have dinner at a cozy restaurant in Montmartre. Try classic dishes like beef bourguignon or duck confit.\\n\\n10. **Evening Seine River Cruise**\\n    - End your day with a romantic Seine River cruise. Enjoy the illuminated landmarks of Paris as you float along the river.\\n\\n### Tips\\n- Purchase skip-the-line tickets for the Eiffel Tower and Louvre in advance.\\n- Wear comfortable shoes as you’ll be walking quite a bit.\\n- Bring a camera to capture all the beautiful sights!\\n\\nLet me know if you'd like to modify this itinerary or need more information!\" type='TextMessage'\n"
     ]
    }
   ],
   "source": [
    "async def assistant_run() -> None:\n",
    "    response = await agent.on_messages(\n",
    "        [TextMessage(content=\"Plan me random day trip.\", source=\"user\")],\n",
    "        cancellation_token=CancellationToken(),\n",
    "    )\n",
    "    print(response.inner_messages)\n",
    "    print(response.chat_message)\n",
    "\n",
    "\n",
    "# Use asyncio.run(assistant_run()) when running in a script.\n",
    "await assistant_run()"
   ]
  }
 ],
 "metadata": {
  "kernelspec": {
   "display_name": ".venv",
   "language": "python",
   "name": "python3"
  },
  "language_info": {
   "codemirror_mode": {
    "name": "ipython",
    "version": 3
   },
   "file_extension": ".py",
   "mimetype": "text/x-python",
   "name": "python",
   "nbconvert_exporter": "python",
   "pygments_lexer": "ipython3",
   "version": "3.12.9"
  }
 },
 "nbformat": 4,
 "nbformat_minor": 2
}
